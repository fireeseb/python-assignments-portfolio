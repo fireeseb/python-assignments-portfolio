{
 "cells": [
  {
   "cell_type": "code",
   "execution_count": null,
   "id": "4545dba6",
   "metadata": {},
   "outputs": [],
   "source": [
    "# import\n",
    "import numpy as np \n",
    "e = np.exp(1)\n",
    "\n",
    "def bisection(f, a, b): \n",
    "    decimal_length = 0\n",
    "    if f(a) >= 0 >= f(b) or f(b) >= 0 >= f(a): #is zero between the two numbers\n",
    "        while decimal_length < 10:  # do this n amount of times\n",
    "            midpoint = (a + b)/2 # find midpoint \n",
    "\n",
    "# if the output of a and the output of the midpoint between a and b have a zero in between, this midpoint becomes b    \n",
    "            if f(a) >= 0 >= f(midpoint) or f(midpoint) >= 0 >= f(a): \n",
    "                b = midpoint\n",
    "                \n",
    "# see above with b instead of a (in the case that the a to b midpoint variable doesn't contain the zero)             \n",
    "            elif f(b) >= 0 >= f(midpoint) or f(midpoint) >= 0 >= f(b):\n",
    "                a = midpoint\n",
    "# if exact              \n",
    "            elif f(midpoint) == 0:\n",
    "                print(\"Found exact solution.\")\n",
    "                return midpoint\n",
    "# if neither               \n",
    "            else:\n",
    "                print(\"Bisection method fails!\")\n",
    "                return None\n",
    "\n",
    "            split = str(midpoint).split(\".\")\n",
    "            decimal_length = len(split[1]) #1 because you want the second index and it starts at 0\n",
    "                \n",
    "    else: #if zero is not between the two numbers\n",
    "        print(\"Bisection method fails.\")\n",
    "        return None\n",
    "    return midpoint\n",
    "        \n",
    "\n",
    "f_1 = lambda x: e**x * np.log(x)\n",
    "f_2 = lambda x: np.arctan(x) - x**2 \n",
    "f_3 = lambda x: np.sin(x)/np.log(x)\n",
    "f_4 = lambda x: np.log(np.cos(x))\n",
    "\n",
    "print (bisection(f_1, 0, 1))\n",
    "print (bisection(f_2, 0, 2))\n",
    "print (bisection(f_3, 3, 4))\n",
    "print (bisection(f_4, 5, 7))"
   ]
  }
 ],
 "metadata": {
  "kernelspec": {
   "display_name": "Python 3 (ipykernel)",
   "language": "python",
   "name": "python3"
  },
  "language_info": {
   "codemirror_mode": {
    "name": "ipython",
    "version": 3
   },
   "file_extension": ".py",
   "mimetype": "text/x-python",
   "name": "python",
   "nbconvert_exporter": "python",
   "pygments_lexer": "ipython3",
   "version": "3.11.4"
  }
 },
 "nbformat": 4,
 "nbformat_minor": 5
}
