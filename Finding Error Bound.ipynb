{
 "cells": [
  {
   "cell_type": "code",
   "execution_count": 2,
   "id": "8b0bd2bf",
   "metadata": {},
   "outputs": [
    {
     "name": "stdout",
     "output_type": "stream",
     "text": [
      "Give me an x value! 1\n",
      "(0.7854481733989479, 10001, 9.999000099990002e-05)\n"
     ]
    }
   ],
   "source": [
    "given_number = float(input(\"Give me an x value! \"))\n",
    "# Define s\n",
    "a = 0\n",
    "n = 0\n",
    "\n",
    "# Define a function used to get the error bound below 0.0001\n",
    "def error(x):\n",
    "  # Define Variables\n",
    "  a = 0\n",
    "  n = 0\n",
    "  error_bound = (x**(2*n+1))/(2*n+1)\n",
    "  # Check if input is in range\n",
    "  if x >= 0 and x <= 1:\n",
    "    # Start loop\n",
    "    while error_bound > 0.0001:\n",
    "      n+=1\n",
    "      error_bound = (x**(2*n+1))/(2*n+1)\n",
    "    \n",
    "    # Iterate n times\n",
    "    for i in range (0,n-1):\n",
    "      a+=((-1)**i*given_number**(2*i+1))/(2*i+1)\n",
    "    other_n = 2*n+1 \n",
    "    return a,other_n,error_bound\n",
    "  # If not in range, print error\n",
    "  else:\n",
    "    print(\"error!\")\n",
    "  \n",
    "\n",
    "# Run the function!\n",
    "temp = error(given_number)\n",
    "\n",
    "print(temp)\n",
    "\n",
    "# print s!\n",
    "#print(\"n is\",n)\n",
    " \n",
    "#print(\"s is\",s)"
   ]
  }
 ],
 "metadata": {
  "kernelspec": {
   "display_name": "Python 3 (ipykernel)",
   "language": "python",
   "name": "python3"
  },
  "language_info": {
   "codemirror_mode": {
    "name": "ipython",
    "version": 3
   },
   "file_extension": ".py",
   "mimetype": "text/x-python",
   "name": "python",
   "nbconvert_exporter": "python",
   "pygments_lexer": "ipython3",
   "version": "3.11.4"
  }
 },
 "nbformat": 4,
 "nbformat_minor": 5
}
