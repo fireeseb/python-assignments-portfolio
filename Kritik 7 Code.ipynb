{
 "cells": [
  {
   "cell_type": "code",
   "execution_count": 17,
   "id": "36db6551",
   "metadata": {},
   "outputs": [
    {
     "name": "stdout",
     "output_type": "stream",
     "text": [
      "t_0 is 2.290087686017293 and the assmuption that t_0 is in tstar is False\n",
      "The false result means that we can reject the null hypothesis.\n",
      "Because t_0 is larger than tstar and positive, we can say that the average was higher than the assumed average\n",
      "This means that the new teaching style was beneficial.\n"
     ]
    }
   ],
   "source": [
    "import numpy as np\n",
    "from scipy.special import gamma\n",
    "\n",
    "def t_distribution_pdf(x, nu): #greg function woohoo\n",
    "    coeff = gamma((nu + 1) / 2) / (np.sqrt(nu * np.pi) * gamma(nu / 2))\n",
    "    density = coeff * (1 + x**2 / nu) ** (-0.5 * (nu + 1))\n",
    "    return density\n",
    "\n",
    "data = [92.64,79.00,84.79,97.41,93.68,65.23,84.50,73.49,73.97,79.11] #initializing given data and other given variables\n",
    "u = 75\n",
    "length = len(data)\n",
    "nu = length - 1\n",
    "\n",
    "def mean (x): #making a function that takes the mean of the dataset by iterating through and adding \n",
    "    sum_value = 0\n",
    "    for i in data:\n",
    "        sum_value = sum_value + i\n",
    "    average = sum_value/length\n",
    "    return average\n",
    "\n",
    "def std(x): #finding the standard deviation\n",
    "    avg = mean(data)\n",
    "    sdev = 0  # initializing\n",
    "    for i in data:\n",
    "        sdev += (i - avg) ** 2  # iterating through the data\n",
    "    sdev = np.sqrt(sdev/(nu))  # stdev equation\n",
    "    return sdev\n",
    "\n",
    "s = std(data) #assigning the above function to a variable for ease\n",
    "  \n",
    "t_0 = (mean(data) - u)/(std(data)/np.sqrt(length)) #t0 calculation\n",
    "\n",
    "def find_t_star(prob, nu, x_start=0, x_end=20, num_points=10000): #more greg code woohoo!\n",
    "\n",
    "# Define the x values\n",
    "    x = np.linspace(x_start, x_end, num_points)\n",
    "# Apply the density function to the x values\n",
    "    y = t_distribution_pdf(x, nu)\n",
    "# This next line is the integration (exercise: why does this work?)\n",
    "    cdf = np.cumsum(y) * (x[1] - x[0])\n",
    "# Find the t-value where the cumulative probability reaches half of the\n",
    "    #required probability\n",
    "    target_half_prob = prob / 2\n",
    "    index = np.where(cdf >= target_half_prob)[0][0]\n",
    "    return x[index]\n",
    "\n",
    "t_star = find_t_star(0.95, nu) #assigning to a variable for good practice!\n",
    "        \n",
    "def is_t_0_in_tstar (t_0, t_star): #is t_0 in t_star?\n",
    "    if np.abs(t_0) > np.abs(t_star): #if the absolute value of t_0 is larger than absolute value of tstar, it's not in the interval\n",
    "        result = False\n",
    "    else:\n",
    "        result = True\n",
    "    return result\n",
    "\n",
    "print (f\"t_0 is {t_0} and the assmuption that t_0 is in tstar is {is_t_0_in_tstar (t_0, t_star)}\")\n",
    "\n",
    "print (\"The false result means that we can reject the null hypothesis.\")\n",
    "print (\"Because t_0 is larger than tstar and positive, we can say that the average was higher than the assumed average\")\n",
    "print (\"This means that the new teaching style was beneficial.\")"
   ]
  },
  {
   "cell_type": "code",
   "execution_count": null,
   "id": "5680e0b5",
   "metadata": {},
   "outputs": [],
   "source": []
  }
 ],
 "metadata": {
  "kernelspec": {
   "display_name": "Python 3 (ipykernel)",
   "language": "python",
   "name": "python3"
  },
  "language_info": {
   "codemirror_mode": {
    "name": "ipython",
    "version": 3
   },
   "file_extension": ".py",
   "mimetype": "text/x-python",
   "name": "python",
   "nbconvert_exporter": "python",
   "pygments_lexer": "ipython3",
   "version": "3.11.4"
  }
 },
 "nbformat": 4,
 "nbformat_minor": 5
}
