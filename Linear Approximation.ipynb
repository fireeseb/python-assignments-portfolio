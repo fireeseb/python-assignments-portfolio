{
 "cells": [
  {
   "cell_type": "code",
   "execution_count": 4,
   "id": "9e6bf678",
   "metadata": {},
   "outputs": [
    {
     "name": "stdout",
     "output_type": "stream",
     "text": [
      "0.999999999\n",
      "1.000000001\n",
      "None\n",
      "0.7853981623974483\n",
      "0.7853981643974483\n",
      "None\n",
      "-1e-09\n",
      "1e-09\n",
      "None\n"
     ]
    }
   ],
   "source": [
    "import numpy as np\n",
    "f_1 = lambda x: x**2\n",
    "f_2 = lambda x: np.sin(x)\n",
    "f_3 = lambda x: np.exp(x)\n",
    "def lin_approx (f, c, E):\n",
    "    n = 100\n",
    "    x1 = c\n",
    "    x2 = c\n",
    "    deltax = 10**(-8)\n",
    "    d = 0.000000001\n",
    "    def f_Prime(x):\n",
    "        return (f(x+deltax)-f(x-deltax))/(2*deltax)\n",
    "    def L(x): \n",
    "        return f(c)+f_Prime(c)*(x-c)\n",
    "    for i in range (n):\n",
    "        x1=x1-d\n",
    "        if abs (f(x1)-L(x1)) <= E:\n",
    "            print (x1)\n",
    "            break\n",
    "    for i in range(n):\n",
    "        x2=x2+d\n",
    "        if abs(f(x2)-L(x2)) <= E:\n",
    "            print (x2)\n",
    "            break\n",
    "print (lin_approx (f_1, 1, 0.1))\n",
    "print (lin_approx (f_2, np.pi/4, 0.05))\n",
    "print (lin_approx (f_3, 0, 0.01))"
   ]
  }
 ],
 "metadata": {
  "kernelspec": {
   "display_name": "Python 3 (ipykernel)",
   "language": "python",
   "name": "python3"
  },
  "language_info": {
   "codemirror_mode": {
    "name": "ipython",
    "version": 3
   },
   "file_extension": ".py",
   "mimetype": "text/x-python",
   "name": "python",
   "nbconvert_exporter": "python",
   "pygments_lexer": "ipython3",
   "version": "3.11.4"
  }
 },
 "nbformat": 4,
 "nbformat_minor": 5
}
